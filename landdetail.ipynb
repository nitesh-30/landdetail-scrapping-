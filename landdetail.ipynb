{
 "cells": [
  {
   "cell_type": "code",
   "execution_count": 41,
   "id": "30ef9b88",
   "metadata": {
    "collapsed": true
   },
   "outputs": [
    {
     "name": "stdout",
     "output_type": "stream",
     "text": [
      "Requirement already satisfied: selenium in c:\\users\\nitesh\\anaconda3\\ano\\lib\\site-packages (4.4.3)Note: you may need to restart the kernel to use updated packages.\n",
      "\n",
      "Requirement already satisfied: urllib3[socks]~=1.26 in c:\\users\\nitesh\\anaconda3\\ano\\lib\\site-packages (from selenium) (1.26.9)\n",
      "Requirement already satisfied: trio-websocket~=0.9 in c:\\users\\nitesh\\anaconda3\\ano\\lib\\site-packages (from selenium) (0.9.2)\n",
      "Requirement already satisfied: trio~=0.17 in c:\\users\\nitesh\\anaconda3\\ano\\lib\\site-packages (from selenium) (0.21.0)\n",
      "Requirement already satisfied: certifi>=2021.10.8 in c:\\users\\nitesh\\anaconda3\\ano\\lib\\site-packages (from selenium) (2021.10.8)\n",
      "Requirement already satisfied: idna in c:\\users\\nitesh\\anaconda3\\ano\\lib\\site-packages (from trio~=0.17->selenium) (3.3)\n",
      "Requirement already satisfied: sortedcontainers in c:\\users\\nitesh\\anaconda3\\ano\\lib\\site-packages (from trio~=0.17->selenium) (2.4.0)\n",
      "Requirement already satisfied: async-generator>=1.9 in c:\\users\\nitesh\\anaconda3\\ano\\lib\\site-packages (from trio~=0.17->selenium) (1.10)\n",
      "Requirement already satisfied: sniffio in c:\\users\\nitesh\\anaconda3\\ano\\lib\\site-packages (from trio~=0.17->selenium) (1.2.0)\n",
      "Requirement already satisfied: cffi>=1.14 in c:\\users\\nitesh\\anaconda3\\ano\\lib\\site-packages (from trio~=0.17->selenium) (1.15.0)\n",
      "Requirement already satisfied: attrs>=19.2.0 in c:\\users\\nitesh\\anaconda3\\ano\\lib\\site-packages (from trio~=0.17->selenium) (21.4.0)\n",
      "Requirement already satisfied: outcome in c:\\users\\nitesh\\anaconda3\\ano\\lib\\site-packages (from trio~=0.17->selenium) (1.2.0)\n",
      "Requirement already satisfied: pycparser in c:\\users\\nitesh\\anaconda3\\ano\\lib\\site-packages (from cffi>=1.14->trio~=0.17->selenium) (2.21)\n",
      "Requirement already satisfied: wsproto>=0.14 in c:\\users\\nitesh\\anaconda3\\ano\\lib\\site-packages (from trio-websocket~=0.9->selenium) (1.2.0)\n",
      "Requirement already satisfied: PySocks!=1.5.7,<2.0,>=1.5.6 in c:\\users\\nitesh\\anaconda3\\ano\\lib\\site-packages (from urllib3[socks]~=1.26->selenium) (1.7.1)\n",
      "Requirement already satisfied: h11<1,>=0.9.0 in c:\\users\\nitesh\\anaconda3\\ano\\lib\\site-packages (from wsproto>=0.14->trio-websocket~=0.9->selenium) (0.13.0)\n"
     ]
    }
   ],
   "source": [
    "pip install selenium"
   ]
  },
  {
   "cell_type": "code",
   "execution_count": null,
   "id": "1d7c145f",
   "metadata": {},
   "outputs": [],
   "source": []
  },
  {
   "cell_type": "code",
   "execution_count": null,
   "id": "54af71a0",
   "metadata": {},
   "outputs": [],
   "source": [
    "from lxml import html"
   ]
  },
  {
   "cell_type": "code",
   "execution_count": null,
   "id": "257b01ae",
   "metadata": {},
   "outputs": [],
   "source": [
    "import requests"
   ]
  },
  {
   "cell_type": "code",
   "execution_count": null,
   "id": "fb2166f4",
   "metadata": {},
   "outputs": [],
   "source": [
    "import csv"
   ]
  },
  {
   "cell_type": "code",
   "execution_count": null,
   "id": "8c9d034f",
   "metadata": {},
   "outputs": [],
   "source": [
    "from selenium.webdriver.common.by import By"
   ]
  },
  {
   "cell_type": "code",
   "execution_count": null,
   "id": "f4c3661c",
   "metadata": {},
   "outputs": [],
   "source": [
    "from selenium import webdriver"
   ]
  },
  {
   "cell_type": "code",
   "execution_count": 77,
   "id": "02937fff",
   "metadata": {},
   "outputs": [
    {
     "name": "stderr",
     "output_type": "stream",
     "text": [
      "C:\\Users\\nitesh\\AppData\\Local\\Temp\\ipykernel_3700\\2602234205.py:1: DeprecationWarning: executable_path has been deprecated, please pass in a Service object\n",
      "  driver=webdriver.Chrome(executable_path=\"E:/contact/chromedriver_win32/chromedriver.exe\")\n"
     ]
    }
   ],
   "source": [
    "driver=webdriver.Chrome(executable_path=\"E:/contact/chromedriver_win32/chromedriver.exe\")"
   ]
  },
  {
   "cell_type": "code",
   "execution_count": 50,
   "id": "6e68d9f3",
   "metadata": {},
   "outputs": [],
   "source": [
    "driver.get(\"https://www.bidwells.co.uk/commercial/?Page=1\")"
   ]
  },
  {
   "cell_type": "code",
   "execution_count": 8,
   "id": "54a19f7c",
   "metadata": {},
   "outputs": [
    {
     "data": {
      "text/plain": [
       "'Commercial Property'"
      ]
     },
     "execution_count": 8,
     "metadata": {},
     "output_type": "execute_result"
    }
   ],
   "source": [
    "driver.title"
   ]
  },
  {
   "cell_type": "code",
   "execution_count": null,
   "id": "035311bc",
   "metadata": {},
   "outputs": [],
   "source": [
    "link=driver.find_elements(By.XPATH,\"//a[@class='faux-link to-lg:hidden']\")"
   ]
  },
  {
   "cell_type": "code",
   "execution_count": 11,
   "id": "e6effcf1",
   "metadata": {},
   "outputs": [
    {
     "data": {
      "text/plain": [
       "12"
      ]
     },
     "execution_count": 11,
     "metadata": {},
     "output_type": "execute_result"
    }
   ],
   "source": [
    "len(link)"
   ]
  },
  {
   "cell_type": "code",
   "execution_count": 12,
   "id": "46242fe6",
   "metadata": {},
   "outputs": [],
   "source": [
    "url=[]\n",
    "for i in link:\n",
    "    url.append(i.get_attribute(\"href\"))"
   ]
  },
  {
   "cell_type": "code",
   "execution_count": 52,
   "id": "18b7e214",
   "metadata": {},
   "outputs": [
    {
     "data": {
      "text/plain": [
       "12"
      ]
     },
     "execution_count": 52,
     "metadata": {},
     "output_type": "execute_result"
    }
   ],
   "source": [
    "len(url)"
   ]
  },
  {
   "cell_type": "code",
   "execution_count": 13,
   "id": "20f6f091",
   "metadata": {},
   "outputs": [],
   "source": [
    "property=requests.get(url[0])"
   ]
  },
  {
   "cell_type": "code",
   "execution_count": 14,
   "id": "917fec4e",
   "metadata": {},
   "outputs": [],
   "source": [
    "data=html.fromstring(property.content)"
   ]
  },
  {
   "cell_type": "code",
   "execution_count": 27,
   "id": "65fa0a65",
   "metadata": {},
   "outputs": [
    {
     "data": {
      "text/plain": [
       "'Cambridge Biomedical Campus Hills Road, Cambridge, CB2 '"
      ]
     },
     "execution_count": 27,
     "metadata": {},
     "output_type": "execute_result"
    }
   ],
   "source": [
    "data.xpath(\"//title\")[0].text"
   ]
  },
  {
   "cell_type": "code",
   "execution_count": null,
   "id": "c1037be3",
   "metadata": {},
   "outputs": [],
   "source": [
    "car24=[]\n",
    "for k in range (1,3):\n",
    "    driver.get(f\"https://www.bidwells.co.uk/commercial/?Page={k}\")\n",
    "    link=driver.find_elements(By.XPATH,\"//a[@class='faux-link to-lg:hidden']\")\n",
    "    url=[]\n",
    "    for i in link:\n",
    "        url.append(i.get_attribute(\"href\"))\n",
    "    for m in url:\n",
    "        property=requests.get(m)\n",
    "        data=html.fromstring(property.content)\n",
    "        \n",
    "        row=[]\n",
    "        for j in url:\n",
    "            property=requests.get(j)\n",
    "            data=html.fromstring(property.content)\n",
    "            status=data.xpath(\"//span[@class='eyebrow text-white']\")[0].text\n",
    "            address=data.xpath(\"//h1[@class='h3 mt-3']\")[0].text\n",
    "            area=data.xpath(\"//h2[@class='h3']\")[0].text\n",
    "            phonenu=data.xpath(\"//a[@class='underline hover:no-underline focus:no-underline'][1]\")[0].text\n",
    "            image=data.xpath(\"//img[@class='block h-full w-full object-cover']\")[0].get(\"src\")\n",
    "            emailid=data.xpath(\"//ul[@class='mt-5 w-full text-zodiacblue']/li/a\")[1].text\n",
    "            description=data.xpath(\"//h3[@class='h3 text-zodiacblue']\")[0].text\n",
    "            location=data.xpath(\"//div[@class='property-location__header xl:hidden']/p\")[0].text\n",
    "            detail=data.xpath(\"//div[@class='col-start-3 lg:col-start-3 col-span-20 lg:col-span-13 mt-10 lg:mt-20 format-rich-text']\")[1].text\n",
    "            row=[status,location,image,address,area,emailid,phonenu,description,detail]\n",
    "            car24.append(row)\n",
    "            row=[]"
   ]
  },
  {
   "cell_type": "code",
   "execution_count": 68,
   "id": "d8be0a1d",
   "metadata": {},
   "outputs": [],
   "source": [
    "url = (f\"https://www.bidwells.co.uk/commercial/?Page={i}\")"
   ]
  },
  {
   "cell_type": "code",
   "execution_count": 71,
   "id": "f3225bd6",
   "metadata": {},
   "outputs": [
    {
     "name": "stdout",
     "output_type": "stream",
     "text": [
      "https://www.bidwells.co.uk/commercial/?Page=1\n",
      "https://www.bidwells.co.uk/commercial/?Page=2\n",
      "https://www.bidwells.co.uk/commercial/?Page=3\n",
      "https://www.bidwells.co.uk/commercial/?Page=4\n"
     ]
    }
   ],
   "source": [
    "for i in range(1,5):\n",
    "    url = (f\"https://www.bidwells.co.uk/commercial/?Page={i}\")\n",
    "    print(url)"
   ]
  },
  {
   "cell_type": "code",
   "execution_count": 75,
   "id": "c5b1262c",
   "metadata": {},
   "outputs": [],
   "source": [
    "for k in range (1,3):\n",
    "    driver.get(f\"https://www.bidwells.co.uk/commercial/?Page={k}\")\n",
    "    \n",
    "    "
   ]
  },
  {
   "cell_type": "code",
   "execution_count": 58,
   "id": "009d044f",
   "metadata": {},
   "outputs": [
    {
     "data": {
      "text/plain": [
       "12"
      ]
     },
     "execution_count": 58,
     "metadata": {},
     "output_type": "execute_result"
    }
   ],
   "source": [
    "len(link)"
   ]
  },
  {
   "cell_type": "code",
   "execution_count": 34,
   "id": "69649c21",
   "metadata": {},
   "outputs": [
    {
     "data": {
      "text/plain": [
       "'01223 559262'"
      ]
     },
     "execution_count": 34,
     "metadata": {},
     "output_type": "execute_result"
    }
   ],
   "source": [
    "data.xpath(\"//a[@class='underline hover:no-underline focus:no-underline'][1]\")[0].text"
   ]
  },
  {
   "cell_type": "code",
   "execution_count": 35,
   "id": "60079be6",
   "metadata": {},
   "outputs": [
    {
     "data": {
      "text/plain": [
       "'/globalassets/agency-pilot/cb2/cambridge-biomedical-campus-hills-road-cambridge-cb2-_290/photo.jpg?w=700'"
      ]
     },
     "execution_count": 35,
     "metadata": {},
     "output_type": "execute_result"
    }
   ],
   "source": [
    "data.xpath(\"//img[@class='block h-full w-full object-cover']\")[0].get(\"src\")"
   ]
  },
  {
   "cell_type": "code",
   "execution_count": 79,
   "id": "df171228",
   "metadata": {},
   "outputs": [],
   "source": [
    "header=['Status','location','image','address','area','emailid','phonenum','description','detail']"
   ]
  },
  {
   "cell_type": "code",
   "execution_count": 81,
   "id": "025a3120",
   "metadata": {},
   "outputs": [],
   "source": [
    "with open(\"car24detail.csv\",'w',newline=\"\",encoding='utf-8')as file:\n",
    "     writer=csv.writer(file)\n",
    "     writer.writerow(header)\n",
    "     writer.writerows(car24)"
   ]
  }
 ],
 "metadata": {
  "kernelspec": {
   "display_name": "Python 3 (ipykernel)",
   "language": "python",
   "name": "python3"
  },
  "language_info": {
   "codemirror_mode": {
    "name": "ipython",
    "version": 3
   },
   "file_extension": ".py",
   "mimetype": "text/x-python",
   "name": "python",
   "nbconvert_exporter": "python",
   "pygments_lexer": "ipython3",
   "version": "3.9.12"
  }
 },
 "nbformat": 4,
 "nbformat_minor": 5
}
